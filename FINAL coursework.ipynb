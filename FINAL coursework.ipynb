{
 "cells": [
  {
   "cell_type": "code",
   "execution_count": 65,
   "id": "25667206",
   "metadata": {},
   "outputs": [],
   "source": [
    "# Required when you have multiple outputs from a cell\n",
    "\n",
    "from IPython.core.interactiveshell import InteractiveShell\n",
    "InteractiveShell.ast_node_interactivity = \"all\""
   ]
  },
  {
   "cell_type": "code",
   "execution_count": 66,
   "id": "471d9f40",
   "metadata": {},
   "outputs": [],
   "source": [
    "# CLASS DEFINITION FOR SOCIETY\n",
    "\n",
    "class Society:\n",
    "\n",
    "    _all_societies = []\n",
    "\n",
    "    def __init__(self, name, society_type, max_members):\n",
    "        # constructor - returns an instance of the society class\n",
    "        self._name = name\n",
    "        self._people = []\n",
    "        self._society_leader = None\n",
    "        self._society_type = society_type\n",
    "        self._max_members = None\n",
    "\n",
    "        Society._all_societies.append(self) \n",
    "\n",
    "    def get_name(self):\n",
    "        return self._name\n",
    "\n",
    "    def set_name(self, name):\n",
    "        self._name = name\n",
    "        \n",
    "    def get_society_type(self):\n",
    "        return self._society_type\n",
    "\n",
    "    def set_society_type(self, society_type):\n",
    "        self._society_type = society_type\n",
    "\n",
    "    def get_people(self):\n",
    "        return self._people\n",
    "\n",
    "    def add_person_to_society(self, person):\n",
    "        self._people.append(person)\n",
    "\n",
    "    def get_society_leader(self):\n",
    "        return self._society_leaders\n",
    "\n",
    "    def add_society_leader_to_module(self, society_leader):\n",
    "        self._society_leader.append(society_leader)\n",
    "\n",
    "    @classmethod\n",
    "    def get_all_societies(cls):\n",
    "        return cls._all_societies\n"
   ]
  },
  {
   "cell_type": "code",
   "execution_count": 67,
   "id": "d580e730",
   "metadata": {},
   "outputs": [],
   "source": [
    "# CLASS DEFINITION FOR MESSAGE/ POST\n",
    "\n",
    "class Message:\n",
    "\n",
    "    def __init__(self, message, from_chatroom):\n",
    "        self._message = message\n",
    "        self._from_chatroom = from_chatroom\n",
    "\n",
    "    @property\n",
    "    def message(self):\n",
    "        return self._message\n",
    "\n",
    "    @property\n",
    "    def from_chatroom(self):\n",
    "        return self._from_chatroom"
   ]
  },
  {
   "cell_type": "code",
   "execution_count": 68,
   "id": "236ea2ce",
   "metadata": {},
   "outputs": [],
   "source": [
    "# CLASS DEFINITION FOR MESSAGE QUEUE \n",
    "# Allows for messages to be sent in the chatroom\n",
    "# Every chatroom has its own message queue\n",
    "\n",
    "class MessageQueue:\n",
    "\n",
    "    def __init__(self):\n",
    "        self.items = []\n",
    "\n",
    "    def isEmpty(self):\n",
    "        return self.items == []\n",
    "\n",
    "    def enqueue(self, item):   \n",
    "        self.items.insert(0, item)\n",
    "\n",
    "    def dequeue(self):\n",
    "        return self.items.pop()\n",
    "\n",
    "    def size(self):\n",
    "        return len(self.items)\n"
   ]
  },
  {
   "cell_type": "code",
   "execution_count": 69,
   "id": "2c2be96a",
   "metadata": {},
   "outputs": [],
   "source": [
    "# CLASS DEFINITION FOR CHATROOM\n",
    "\n",
    "class Chatroom:\n",
    "    _all_chatrooms = []\n",
    "\n",
    "    def __init__(self, name, *args):\n",
    "        \n",
    "        self._name = name\n",
    "        for arg in [*args]:\n",
    "            assert (isinstance(arg, Person) or isinstance(arg, Society_leader))\n",
    "        self._chatroom_members = list(args)\n",
    "        self._message_queue = MessageQueue()\n",
    "\n",
    "        Chatroom._all_chatrooms.append(self)\n",
    "\n",
    "    @property\n",
    "    def name(self):\n",
    "        return self._name\n",
    "\n",
    "    @name.setter\n",
    "    def name(self, name):\n",
    "        self._name = name\n",
    "\n",
    "    @property\n",
    "    def chatroom_members(self):\n",
    "        return self._chatroom_members\n",
    "\n",
    "    @chatroom_members.setter\n",
    "    def chatroom_members(self, *args):\n",
    "        self._chatroom_members = list(args)\n",
    "\n",
    "\n",
    "    def get_name(self):\n",
    "        return self._name\n",
    "\n",
    "    def add_to_chatroom(self, member):\n",
    "        if member not in self._chatroom_members:\n",
    "            self._chatroom_members.append(member)\n",
    "        else:\n",
    "            print(f\"Member {member.get_name()} is already in the chatroom.\")\n",
    "\n",
    "    def remove_from_chatroom(self, member):\n",
    "        if member in self._chatroom_members:\n",
    "            self.chatroom_members.pop(self.chatroom_members.index(member))\n",
    "        else:\n",
    "            print(f\"Member {member.get_name()} is not in chatroom self._name.\")\n",
    "\n",
    "    def add_message_to_queue(self, message):\n",
    "        self._message_queue.enqueue(message)\n",
    "\n",
    "    def send_message_to_chatroom(self, chatroom, message):\n",
    "    \n",
    "        assert isinstance(message, str)\n",
    "        message = Message(message, self)\n",
    "        chatroom.add_message_to_queue(message)\n",
    "\n",
    "    def reply_to_next_message_in_queue(self):\n",
    "        queue_item = None\n",
    "        try:\n",
    "            queue_item = self._message_queue.dequeue()\n",
    "        except IndexError as e:\n",
    "            print(\"There is no message in your queue\")\n",
    "        if queue_item:\n",
    "            received_message = queue_item.message\n",
    "            from_chatroom = queue_item.from_chatroom\n",
    "            ok = None\n",
    "            tries = 0\n",
    "            while ok not in [\"yes\", \"no\"] and tries < 3:\n",
    "                ok = input(\n",
    "                    f\"Your message is: {received_message}. Would you like to reply? Type yes or no.\"\n",
    "                )\n",
    "                if ok not in [\"yes\", \"no\"]:\n",
    "                    print(\"You need to type either true or false.\")\n",
    "                tries += 1\n",
    "\n",
    "            if ok == \"yes\":\n",
    "                response_message = input(\"Enter your response.\")\n",
    "                response = Message(response_message, from_chatroom)\n",
    "                # {\"response\": response_message, \"from_chatroom\": self}\n",
    "                self.send_message_to_chatroom(from_chatroom, response_message)\n",
    "            elif ok == \"no\":\n",
    "                print(\"End of conversation.\")\n",
    "            else:\n",
    "                print(\"You didn`t input the correct values too many times.\")\n"
   ]
  },
  {
   "cell_type": "code",
   "execution_count": 70,
   "id": "deb03921",
   "metadata": {},
   "outputs": [],
   "source": [
    "# CLASS DEFINITION FOR PERSON\n",
    "class Person:\n",
    "\n",
    "    _all_people = []\n",
    "        \n",
    "    def __init__(self, UCL_ID, first_name, middle_name, last_name):\n",
    "        self._UCL_ID = UCL_ID\n",
    "        self._first_name = first_name\n",
    "        self._middle_name = middle_name\n",
    "        self._last_name = last_name\n",
    "        Person._all_people.append(self)\n",
    "\n",
    "    @property\n",
    "    def first_name(self):\n",
    "        return self._first_name\n",
    "\n",
    "    @first_name.setter\n",
    "    def first_name(self, first_name):\n",
    "        self._first_name = first_name\n",
    "\n",
    "    @property\n",
    "    def last_name(self):\n",
    "        return self._last_name\n",
    "\n",
    "    @last_name.setter\n",
    "    def last_name(self, last_name):\n",
    "        self._last_name = last_name\n",
    "\n",
    "    @property\n",
    "    def middle_name(self):\n",
    "        return self._middle_name\n",
    "\n",
    "    @middle_name.setter\n",
    "    def middle_name(self, middle_name):\n",
    "        self._middle_name = middle_name\n",
    "\n",
    "    def get_full_name(self):\n",
    "        return f\"{self.first_name} {self.middle_name} {self.last_name}\"\n",
    "    \n",
    "    def get_name(self):\n",
    "        return self._first_name\n",
    "    \n",
    "    @property\n",
    "    def UCL_ID(self):\n",
    "        return self._UCL_ID\n",
    "\n",
    "    @UCL_ID.setter\n",
    "    def UCL_ID(self, UCL_ID):\n",
    "        self._UCL_ID = UCL_ID\n",
    "\n",
    "  \n"
   ]
  },
  {
   "cell_type": "code",
   "execution_count": 71,
   "id": "f632e7fe",
   "metadata": {},
   "outputs": [],
   "source": [
    "# UTILITY FUNCTION TO INTERROGATE A LIST\n",
    "def get_names_from_list(aList):\n",
    "    for i in aList:\n",
    "        print (i.get_name())"
   ]
  },
  {
   "cell_type": "code",
   "execution_count": 72,
   "id": "a4b1a448",
   "metadata": {},
   "outputs": [
    {
     "name": "stdout",
     "output_type": "stream",
     "text": [
      "The Society name is Art\n",
      "The Society type is Creative\n",
      "The Society name is Painting\n"
     ]
    }
   ],
   "source": [
    "# Society INSTANCE\n",
    "\n",
    "# Create a Society instance\n",
    "society1 = Society(\"Art\", \"Creative\", 500)\n",
    "print(\"The Society name is\",society1.get_name())\n",
    "print(\"The Society type is\", society1.get_society_type())\n",
    "\n",
    "# Change the society instance name\n",
    "society1.set_name(\"Painting\")\n",
    "print(\"The Society name is\", society1.get_name())"
   ]
  },
  {
   "cell_type": "code",
   "execution_count": 73,
   "id": "c74e86e6",
   "metadata": {},
   "outputs": [
    {
     "name": "stdout",
     "output_type": "stream",
     "text": [
      "Mark\n",
      "Izzy\n",
      "Kylee\n",
      "Colin\n",
      "Helen\n",
      "Lee \n",
      "Bruno\n",
      "Kairi\n"
     ]
    }
   ],
   "source": [
    "# Create a list of 8 people INSTANCES\n",
    "person_list = []\n",
    "\n",
    "person_list.append(Person(\"21142948\", \"Mark\", \"Liwen\", \"Walker\"))\n",
    "person_list.append(Person(\"90157732\", \"Izzy\", \"Pili\", \"Kralj\"))\n",
    "person_list.append(Person(\"91282090\", \"Kylee\", \"Kylee\", \"Weaver\"))\n",
    "person_list.append(Person(\"70983157\", \"Colin\", \"Delma\", \"Brent\"))\n",
    "person_list.append(Person(\"59884364\", \"Helen\", \"Kalani\", \"Warren\"))\n",
    "person_list.append(Person(\"12142841\", \"Lee \", \"Loyd\", \"Reynolds\"))\n",
    "person_list.append(Person(\"36113501\", \"Bruno\", \"Campbell\", \"Webb\"))\n",
    "person_list.append(Person(\"40896291\", \"Kairi\", \"Rory\", \" Olson\"))\n",
    "    \n",
    "get_names_from_list(person_list)"
   ]
  },
  {
   "cell_type": "code",
   "execution_count": 74,
   "id": "00b2e04c",
   "metadata": {},
   "outputs": [
    {
     "name": "stdout",
     "output_type": "stream",
     "text": [
      "Football\n",
      "Finance\n"
     ]
    }
   ],
   "source": [
    "# Chatroom INSTANCE - creating a chatroom\n",
    "chatroom_list = []\n",
    "chatroom_list.append(Chatroom(\"Football\", person_list[1], person_list[2], person_list[3]))\n",
    "chatroom_list.append(Chatroom(\"Finance\", person_list[4], person_list[5], person_list[6]))\n",
    "get_names_from_list(chatroom_list)"
   ]
  },
  {
   "cell_type": "code",
   "execution_count": 75,
   "id": "b0962a9a",
   "metadata": {},
   "outputs": [
    {
     "name": "stdout",
     "output_type": "stream",
     "text": [
      "Izzy\n",
      "Kylee\n",
      "Colin\n",
      "Helen\n",
      "Lee \n",
      "Bruno\n"
     ]
    }
   ],
   "source": [
    "# Chatroom INSTANCE - checking members of chatroom\n",
    "get_names_from_list(chatroom_list[0].chatroom_members)\n",
    "get_names_from_list(chatroom_list[1].chatroom_members)"
   ]
  },
  {
   "cell_type": "code",
   "execution_count": 76,
   "id": "22d668d8",
   "metadata": {},
   "outputs": [
    {
     "name": "stdout",
     "output_type": "stream",
     "text": [
      "Izzy\n",
      "Kylee\n"
     ]
    }
   ],
   "source": [
    "# Chatroom INSTANCE - removing members of chatroom\n",
    "chatroom_list[0].remove_from_chatroom( person_list[3])\n",
    "get_names_from_list(chatroom_list[0].chatroom_members)"
   ]
  },
  {
   "cell_type": "code",
   "execution_count": 80,
   "id": "469ecbe6",
   "metadata": {},
   "outputs": [],
   "source": [
    "# Chatroom INSTANCE - sending messages\n",
    "chatroom_list[0].send_message_to_chatroom(chatroom_list[1], \"Time to start connecting\")"
   ]
  },
  {
   "cell_type": "code",
   "execution_count": 81,
   "id": "c2913d2c",
   "metadata": {},
   "outputs": [
    {
     "name": "stdout",
     "output_type": "stream",
     "text": [
      "Your message is: Time to start connecting. Would you like to reply? Type yes or no.yes\n",
      "Enter your response.hello \n"
     ]
    }
   ],
   "source": [
    "chatroom_list[1].reply_to_next_message_in_queue()"
   ]
  },
  {
   "cell_type": "code",
   "execution_count": null,
   "id": "0a242936",
   "metadata": {},
   "outputs": [],
   "source": [
    "chatroom_list[0].reply_to_next_message_in_queue()"
   ]
  }
 ],
 "metadata": {
  "kernelspec": {
   "display_name": "Python 3 (ipykernel)",
   "language": "python",
   "name": "python3"
  },
  "language_info": {
   "codemirror_mode": {
    "name": "ipython",
    "version": 3
   },
   "file_extension": ".py",
   "mimetype": "text/x-python",
   "name": "python",
   "nbconvert_exporter": "python",
   "pygments_lexer": "ipython3",
   "version": "3.9.13"
  }
 },
 "nbformat": 4,
 "nbformat_minor": 5
}
